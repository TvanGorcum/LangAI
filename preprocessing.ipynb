{
 "cells": [
  {
   "cell_type": "markdown",
   "id": "767615ae",
   "metadata": {},
   "source": [
    "Load in the data etc."
   ]
  },
  {
   "cell_type": "code",
   "execution_count": 1,
   "id": "c20fbf85",
   "metadata": {},
   "outputs": [],
   "source": [
    "import pandas as pd\n",
    "file_path = 'lai-data/nationality.csv'\n",
    "df = pd.read_csv(file_path)"
   ]
  },
  {
   "cell_type": "markdown",
   "id": "ca3eacc0",
   "metadata": {},
   "source": [
    "Whcih Nationalities i put in what language group\n",
    "\n",
    "Native, all pretty obvious. I am aware Canada has both native Englsh and French speakers. Yet i chose to put English in there since french speakers in canada are a minority and are often brought op bilangually. Achieving native like profficiency in English as well.\n",
    "\n",
    "I chose to exlcude switzerland because there is a mix of 4 native languages, none of them being english.\n",
    "\n",
    "Languages shares in luxembourgh are way too complicated and since its a small part of the dataset we exclude it\n",
    "\n",
    "We exclude Belgium because the two most dominant languages are from different families\n",
    "\n",
    "Decided to devide the germanic language into norhth and west germanic to see if it makes any difference in the model. The reason for there not being a devision between the romance languages is because they are all from the same subdevision, except romanian but this is only a small part of the dataset.\n",
    "\n",
    "Question: DO we want to go even smaller, e.g group spanish, german, portuguese"
   ]
  },
  {
   "cell_type": "code",
   "execution_count": 2,
   "id": "42adec7c",
   "metadata": {},
   "outputs": [],
   "source": [
    "relevant = ['United Kingdom', 'USA', 'Ireland', 'Canada', 'Australia', 'The Netherlands', 'Germany', 'Austria', 'Iceland', 'Norway', 'Denmark', 'Sweden','France', 'Italy', 'Spain', 'Romania', 'Portugal', 'Mexico', 'Brazil', 'Argentina', 'Chili']\n",
    "\n",
    "native = ['United Kingdom', 'USA', 'Ireland', 'Canada', 'Australia']\n",
    "germanic = ['The Netherlands', 'Germany', 'Austria', 'Iceland', 'Norway', 'Denmark', 'Sweden' ]\n",
    "romance = ['France', 'Italy', 'Spain', 'Romania', 'Portugal', 'Mexico', 'Brazil', 'Argentina', 'Chili']\n",
    "eastern_romance = ['Romania']\n",
    "italo_western_romance = ['France', 'Italy', 'Spain', 'Portugal', 'Mexico', 'Brazil', 'Argentina', 'Chili']\n",
    "north_germanic = ['Iceland', 'Norway', 'Denmark', 'Sweden']\n",
    "west_germanic = ['The Netherlands', 'Germany', 'Austria']\n"
   ]
  },
  {
   "cell_type": "markdown",
   "id": "5a684e59",
   "metadata": {},
   "source": [
    "We get rid of all the languages we willnot use and only use the relevant languages "
   ]
  },
  {
   "cell_type": "code",
   "execution_count": 3,
   "id": "f74332da",
   "metadata": {},
   "outputs": [],
   "source": [
    "filtered_df = df[df['nationality'].isin(relevant)]\n",
    "filtered_df = filtered_df.reset_index(drop=True)"
   ]
  },
  {
   "cell_type": "markdown",
   "id": "32040842",
   "metadata": {},
   "source": [
    "Now we add the labels for germanic, native, romance, and the subfamilies"
   ]
  },
  {
   "cell_type": "code",
   "execution_count": 4,
   "id": "47036fef",
   "metadata": {},
   "outputs": [
    {
     "data": {
      "text/html": [
       "<div>\n",
       "<style scoped>\n",
       "    .dataframe tbody tr th:only-of-type {\n",
       "        vertical-align: middle;\n",
       "    }\n",
       "\n",
       "    .dataframe tbody tr th {\n",
       "        vertical-align: top;\n",
       "    }\n",
       "\n",
       "    .dataframe thead th {\n",
       "        text-align: right;\n",
       "    }\n",
       "</style>\n",
       "<table border=\"1\" class=\"dataframe\">\n",
       "  <thead>\n",
       "    <tr style=\"text-align: right;\">\n",
       "      <th></th>\n",
       "      <th>auhtor_ID</th>\n",
       "      <th>post</th>\n",
       "      <th>nationality</th>\n",
       "      <th>language_family</th>\n",
       "      <th>sub_family</th>\n",
       "    </tr>\n",
       "  </thead>\n",
       "  <tbody>\n",
       "    <tr>\n",
       "      <th>0</th>\n",
       "      <td>t2_qxjm2</td>\n",
       "      <td>AfD und Linke kriechen dem seit Jahren in den ...</td>\n",
       "      <td>Germany</td>\n",
       "      <td>Germanic</td>\n",
       "      <td>West Germanic</td>\n",
       "    </tr>\n",
       "    <tr>\n",
       "      <th>1</th>\n",
       "      <td>t2_qxjm2</td>\n",
       "      <td>and they always have been. They invaded severa...</td>\n",
       "      <td>Germany</td>\n",
       "      <td>Germanic</td>\n",
       "      <td>West Germanic</td>\n",
       "    </tr>\n",
       "    <tr>\n",
       "      <th>2</th>\n",
       "      <td>t2_qxjm2</td>\n",
       "      <td>*schüttelt wütend die Faust* Aber Spaß beiseit...</td>\n",
       "      <td>Germany</td>\n",
       "      <td>Germanic</td>\n",
       "      <td>West Germanic</td>\n",
       "    </tr>\n",
       "    <tr>\n",
       "      <th>3</th>\n",
       "      <td>t2_qxjm2</td>\n",
       "      <td>is power. I'm flabbergasted to see Stan Marsh ...</td>\n",
       "      <td>Germany</td>\n",
       "      <td>Germanic</td>\n",
       "      <td>West Germanic</td>\n",
       "    </tr>\n",
       "    <tr>\n",
       "      <th>4</th>\n",
       "      <td>t2_qxjm2</td>\n",
       "      <td>for cutting all ties to Russia indefinitely. U...</td>\n",
       "      <td>Germany</td>\n",
       "      <td>Germanic</td>\n",
       "      <td>West Germanic</td>\n",
       "    </tr>\n",
       "    <tr>\n",
       "      <th>5</th>\n",
       "      <td>t2_qxjm2</td>\n",
       "      <td>instead of class. Modern day Russia is just as...</td>\n",
       "      <td>Germany</td>\n",
       "      <td>Germanic</td>\n",
       "      <td>West Germanic</td>\n",
       "    </tr>\n",
       "    <tr>\n",
       "      <th>6</th>\n",
       "      <td>t2_qxjm2</td>\n",
       "      <td>meaning *they* (Muslim Indians) are not. Nurtu...</td>\n",
       "      <td>Germany</td>\n",
       "      <td>Germanic</td>\n",
       "      <td>West Germanic</td>\n",
       "    </tr>\n",
       "    <tr>\n",
       "      <th>7</th>\n",
       "      <td>t2_qxjm2</td>\n",
       "      <td>that moron is never seen inside the EU again r...</td>\n",
       "      <td>Germany</td>\n",
       "      <td>Germanic</td>\n",
       "      <td>West Germanic</td>\n",
       "    </tr>\n",
       "    <tr>\n",
       "      <th>8</th>\n",
       "      <td>t2_qxjm2</td>\n",
       "      <td>could also blame your president for life why h...</td>\n",
       "      <td>Germany</td>\n",
       "      <td>Germanic</td>\n",
       "      <td>West Germanic</td>\n",
       "    </tr>\n",
       "    <tr>\n",
       "      <th>9</th>\n",
       "      <td>t2_qxjm2</td>\n",
       "      <td>Bloody wankers. Best regards from Germany. It'...</td>\n",
       "      <td>Germany</td>\n",
       "      <td>Germanic</td>\n",
       "      <td>West Germanic</td>\n",
       "    </tr>\n",
       "  </tbody>\n",
       "</table>\n",
       "</div>"
      ],
      "text/plain": [
       "  auhtor_ID                                               post nationality  \\\n",
       "0  t2_qxjm2  AfD und Linke kriechen dem seit Jahren in den ...     Germany   \n",
       "1  t2_qxjm2  and they always have been. They invaded severa...     Germany   \n",
       "2  t2_qxjm2  *schüttelt wütend die Faust* Aber Spaß beiseit...     Germany   \n",
       "3  t2_qxjm2  is power. I'm flabbergasted to see Stan Marsh ...     Germany   \n",
       "4  t2_qxjm2  for cutting all ties to Russia indefinitely. U...     Germany   \n",
       "5  t2_qxjm2  instead of class. Modern day Russia is just as...     Germany   \n",
       "6  t2_qxjm2  meaning *they* (Muslim Indians) are not. Nurtu...     Germany   \n",
       "7  t2_qxjm2  that moron is never seen inside the EU again r...     Germany   \n",
       "8  t2_qxjm2  could also blame your president for life why h...     Germany   \n",
       "9  t2_qxjm2  Bloody wankers. Best regards from Germany. It'...     Germany   \n",
       "\n",
       "  language_family     sub_family  \n",
       "0        Germanic  West Germanic  \n",
       "1        Germanic  West Germanic  \n",
       "2        Germanic  West Germanic  \n",
       "3        Germanic  West Germanic  \n",
       "4        Germanic  West Germanic  \n",
       "5        Germanic  West Germanic  \n",
       "6        Germanic  West Germanic  \n",
       "7        Germanic  West Germanic  \n",
       "8        Germanic  West Germanic  \n",
       "9        Germanic  West Germanic  "
      ]
     },
     "execution_count": 4,
     "metadata": {},
     "output_type": "execute_result"
    }
   ],
   "source": [
    "filtered_df['language_family'] = ''\n",
    "filtered_df['sub_family'] = ''\n",
    "\n",
    "# Classify into language families based on the lists\n",
    "filtered_df.loc[filtered_df['nationality'].isin(native), 'language_family'] = 'Native'\n",
    "filtered_df.loc[filtered_df['nationality'].isin(germanic), 'language_family'] = 'Germanic'\n",
    "filtered_df.loc[filtered_df['nationality'].isin(romance), 'language_family'] = 'Romance'\n",
    "\n",
    "# Classify into sub-families based on the lists\n",
    "filtered_df.loc[filtered_df['nationality'].isin(eastern_romance), 'sub_family'] = 'Eastern Romance'\n",
    "filtered_df.loc[filtered_df['nationality'].isin(italo_western_romance), 'sub_family'] = 'Italo-Western Romance'\n",
    "filtered_df.loc[filtered_df['nationality'].isin(north_germanic), 'sub_family'] = 'North Germanic'\n",
    "filtered_df.loc[filtered_df['nationality'].isin(west_germanic), 'sub_family'] = 'West Germanic'\n",
    "filtered_df.loc[filtered_df['nationality'].isin(native), 'sub_family'] = 'Native'\n",
    "# Display the result\n",
    "filtered_df.head(10)"
   ]
  },
  {
   "cell_type": "code",
   "execution_count": 5,
   "id": "98f59492",
   "metadata": {},
   "outputs": [],
   "source": [
    "filtered_df.to_csv('Cleaned_Nationality.csv', index=False)"
   ]
  },
  {
   "cell_type": "code",
   "execution_count": null,
   "id": "a8b1a33b",
   "metadata": {},
   "outputs": [],
   "source": []
  }
 ],
 "metadata": {
  "kernelspec": {
   "display_name": "Python 3",
   "language": "python",
   "name": "python3"
  },
  "language_info": {
   "codemirror_mode": {
    "name": "ipython",
    "version": 3
   },
   "file_extension": ".py",
   "mimetype": "text/x-python",
   "name": "python",
   "nbconvert_exporter": "python",
   "pygments_lexer": "ipython3",
   "version": "3.8.8"
  }
 },
 "nbformat": 4,
 "nbformat_minor": 5
}
